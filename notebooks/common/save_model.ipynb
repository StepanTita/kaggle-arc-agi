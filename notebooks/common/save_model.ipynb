{
 "cells": [
  {
   "cell_type": "code",
   "execution_count": 1,
   "metadata": {},
   "outputs": [
    {
     "name": "stderr",
     "output_type": "stream",
     "text": [
      "/home/stepan/.conda/envs/llm-py310/lib/python3.10/site-packages/tqdm/auto.py:21: TqdmWarning: IProgress not found. Please update jupyter and ipywidgets. See https://ipywidgets.readthedocs.io/en/stable/user_install.html\n",
      "  from .autonotebook import tqdm as notebook_tqdm\n"
     ]
    }
   ],
   "source": [
    "import torch # type: ignore\n",
    "from transformers import AutoTokenizer, AutoModelForCausalLM # type: ignore\n",
    "\n",
    "from peft import PeftModel # type: ignore"
   ]
  },
  {
   "cell_type": "code",
   "execution_count": 2,
   "metadata": {},
   "outputs": [],
   "source": [
    "BASE_PATH = '/home/stepan/kaggle-arc-agi'\n",
    "BASE_MODEL_ID = 'unsloth/gemma-2-9b-it-bnb-4bit'\n",
    "NEW_MODEL_ID = f'{BASE_PATH}/models/gemma-2-9b-it'"
   ]
  },
  {
   "cell_type": "code",
   "execution_count": 3,
   "metadata": {},
   "outputs": [
    {
     "name": "stderr",
     "output_type": "stream",
     "text": [
      "Unused kwargs: ['_load_in_4bit', '_load_in_8bit', 'quant_method']. These kwargs are not used in <class 'transformers.utils.quantization_config.BitsAndBytesConfig'>.\n"
     ]
    }
   ],
   "source": [
    "tokenizer = AutoTokenizer.from_pretrained(BASE_MODEL_ID)\n",
    "\n",
    "base_model_reload = AutoModelForCausalLM.from_pretrained(\n",
    "    BASE_MODEL_ID,\n",
    "    low_cpu_mem_usage=True,\n",
    "    return_dict=True,\n",
    "    torch_dtype=torch.bfloat16,\n",
    "    device_map='cpu',\n",
    ")"
   ]
  },
  {
   "cell_type": "code",
   "execution_count": 4,
   "metadata": {},
   "outputs": [
    {
     "name": "stderr",
     "output_type": "stream",
     "text": [
      "/home/stepan/.conda/envs/llm-py310/lib/python3.10/site-packages/peft/tuners/lora/bnb.py:336: UserWarning: Merge lora module to 4-bit linear may get different generations due to rounding errors.\n",
      "  warnings.warn(\n"
     ]
    }
   ],
   "source": [
    "model = PeftModel.from_pretrained(base_model_reload, NEW_MODEL_ID)\n",
    "\n",
    "model = model.merge_and_unload()"
   ]
  },
  {
   "cell_type": "code",
   "execution_count": 5,
   "metadata": {},
   "outputs": [
    {
     "data": {
      "text/plain": [
       "('/home/stepan/kaggle-arc-agi/models/gemma-2-9b-it/baseline/tokenizer_config.json',\n",
       " '/home/stepan/kaggle-arc-agi/models/gemma-2-9b-it/baseline/special_tokens_map.json',\n",
       " '/home/stepan/kaggle-arc-agi/models/gemma-2-9b-it/baseline/tokenizer.model',\n",
       " '/home/stepan/kaggle-arc-agi/models/gemma-2-9b-it/baseline/added_tokens.json',\n",
       " '/home/stepan/kaggle-arc-agi/models/gemma-2-9b-it/baseline/tokenizer.json')"
      ]
     },
     "execution_count": 5,
     "metadata": {},
     "output_type": "execute_result"
    }
   ],
   "source": [
    "model.save_pretrained(f'{BASE_PATH}/models/gemma-2-9b-it/baseline')\n",
    "tokenizer.save_pretrained(f'{BASE_PATH}/models/gemma-2-9b-it/baseline')"
   ]
  },
  {
   "cell_type": "code",
   "execution_count": 6,
   "metadata": {},
   "outputs": [
    {
     "name": "stdout",
     "output_type": "stream",
     "text": [
      "  adding: home/stepan/kaggle-arc-agi/models/gemma-2-9b-it/baseline/ (stored 0%)\n",
      "  adding: home/stepan/kaggle-arc-agi/models/gemma-2-9b-it/baseline/model.safetensors.index.json (deflated 96%)\n",
      "  adding: home/stepan/kaggle-arc-agi/models/gemma-2-9b-it/baseline/model-00004-of-00008.safetensors (deflated 7%)\n",
      "  adding: home/stepan/kaggle-arc-agi/models/gemma-2-9b-it/baseline/model-00001-of-00008.safetensors (deflated 12%)\n",
      "  adding: home/stepan/kaggle-arc-agi/models/gemma-2-9b-it/baseline/special_tokens_map.json (deflated 76%)\n",
      "  adding: home/stepan/kaggle-arc-agi/models/gemma-2-9b-it/baseline/model-00005-of-00008.safetensors (deflated 7%)\n",
      "  adding: home/stepan/kaggle-arc-agi/models/gemma-2-9b-it/baseline/model-00002-of-00008.safetensors (deflated 7%)\n",
      "  adding: home/stepan/kaggle-arc-agi/models/gemma-2-9b-it/baseline/config.json (deflated 56%)\n",
      "  adding: home/stepan/kaggle-arc-agi/models/gemma-2-9b-it/baseline/generation_config.json (deflated 31%)\n",
      "  adding: home/stepan/kaggle-arc-agi/models/gemma-2-9b-it/baseline/tokenizer.json (deflated 72%)\n",
      "  adding: home/stepan/kaggle-arc-agi/models/gemma-2-9b-it/baseline/model-00006-of-00008.safetensors (deflated 7%)\n",
      "  adding: home/stepan/kaggle-arc-agi/models/gemma-2-9b-it/baseline/tokenizer_config.json (deflated 95%)\n",
      "  adding: home/stepan/kaggle-arc-agi/models/gemma-2-9b-it/baseline/tokenizer.model (deflated 51%)\n",
      "  adding: home/stepan/kaggle-arc-agi/models/gemma-2-9b-it/baseline/model-00007-of-00008.safetensors (deflated 7%)\n",
      "  adding: home/stepan/kaggle-arc-agi/models/gemma-2-9b-it/baseline/model-00003-of-00008.safetensors (deflated 7%)\n",
      "  adding: home/stepan/kaggle-arc-agi/models/gemma-2-9b-it/baseline/model-00008-of-00008.safetensors (deflated 7%)\n"
     ]
    }
   ],
   "source": [
    "! zip -r {BASE_PATH}/models/gemma-2-9b-it/baseline.zip {BASE_PATH}/models/gemma-2-9b-it/baseline"
   ]
  },
  {
   "cell_type": "code",
   "execution_count": null,
   "metadata": {},
   "outputs": [],
   "source": []
  }
 ],
 "metadata": {
  "kernelspec": {
   "display_name": "Python 3 (ipykernel)",
   "language": "python",
   "name": "python3"
  }
 },
 "nbformat": 4,
 "nbformat_minor": 2
}
